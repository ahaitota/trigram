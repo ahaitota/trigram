{
 "cells": [
  {
   "cell_type": "code",
   "execution_count": 102,
   "metadata": {},
   "outputs": [],
   "source": [
    "import torch"
   ]
  },
  {
   "cell_type": "code",
   "execution_count": 103,
   "metadata": {},
   "outputs": [],
   "source": [
    "words = open('../datasets/names.txt', 'r').read().splitlines()"
   ]
  },
  {
   "cell_type": "code",
   "execution_count": 104,
   "metadata": {},
   "outputs": [],
   "source": [
    "chars = sorted(list(set(''.join(words))))\n",
    "stoi = {s:i+1 for i,s in enumerate(chars)}\n",
    "stoi['.'] = 0\n",
    "itos = {i:s for s,i in stoi.items()}"
   ]
  },
  {
   "cell_type": "code",
   "execution_count": 105,
   "metadata": {},
   "outputs": [],
   "source": [
    "xs, ys = [], []\n",
    "for w in words:\n",
    "    chs = [\".\"] + [\".\"] + list(w) + [\".\"]\n",
    "    for ch1, ch2, ch3 in zip(chs, chs[1:], chs[2:]):\n",
    "        ix1 = stoi[ch1]\n",
    "        ix2 = stoi[ch2]\n",
    "        ix3 = stoi[ch3]\n",
    "        xs.append((ix1, ix2))\n",
    "        ys.append(ix3)\n",
    "\n"
   ]
  },
  {
   "cell_type": "code",
   "execution_count": 106,
   "metadata": {},
   "outputs": [
    {
     "name": "stdout",
     "output_type": "stream",
     "text": [
      "tensor([  0,   5, 148,  ..., 727, 701, 726])\n"
     ]
    }
   ],
   "source": [
    "import torch.nn.functional as F\n",
    "\n",
    "num_classes = 27**2  \n",
    "\n",
    "xs_set = [(i, j) for i in range(27) for j in range(27)] \n",
    "\n",
    "mapping = {tup: idx for idx, tup in enumerate(xs_set)}\n",
    "indices = torch.tensor([mapping[pair] for pair in xs])\n",
    "print(indices)\n",
    "one_hot = F.one_hot(indices, num_classes=num_classes).float()\n"
   ]
  },
  {
   "cell_type": "code",
   "execution_count": 107,
   "metadata": {},
   "outputs": [],
   "source": [
    "# randomly initialize  neurons' weights. each neuron receives 27 inputs\n",
    "g = torch.Generator().manual_seed(2147483647)\n",
    "W = torch.randn((num_classes, 27), generator=g, requires_grad=True)\n"
   ]
  },
  {
   "cell_type": "code",
   "execution_count": 108,
   "metadata": {},
   "outputs": [
    {
     "name": "stdout",
     "output_type": "stream",
     "text": [
      "3.8028225898742676\n",
      "3.484238386154175\n",
      "3.339092254638672\n",
      "3.228334665298462\n",
      "3.1532347202301025\n",
      "3.0691938400268555\n",
      "3.020444631576538\n",
      "2.9607300758361816\n",
      "2.9307491779327393\n",
      "2.876832962036133\n",
      "2.852565050125122\n",
      "2.815589666366577\n",
      "2.803870677947998\n",
      "2.7617855072021484\n",
      "2.747529983520508\n",
      "2.7242934703826904\n",
      "2.7229347229003906\n",
      "2.68473744392395\n",
      "2.6744003295898438\n",
      "2.6601169109344482\n",
      "2.664299249649048\n",
      "2.6287546157836914\n",
      "2.6211535930633545\n",
      "2.611215114593506\n",
      "2.6180505752563477\n",
      "2.585773229598999\n",
      "2.5809853076934814\n",
      "2.5727834701538086\n",
      "2.5818333625793457\n",
      "2.5509371757507324\n",
      "2.547560691833496\n",
      "2.5412425994873047\n",
      "2.551645278930664\n",
      "2.5223286151885986\n",
      "2.5203661918640137\n",
      "2.515059232711792\n",
      "2.5266456604003906\n",
      "2.498185396194458\n",
      "2.497084379196167\n",
      "2.492807149887085\n",
      "2.5052130222320557\n",
      "2.4776451587677\n",
      "2.477365255355835\n",
      "2.4737472534179688\n",
      "2.486870050430298\n",
      "2.4598772525787354\n",
      "2.4601686000823975\n",
      "2.457179307937622\n",
      "2.4708425998687744\n",
      "2.444406270980835\n"
     ]
    }
   ],
   "source": [
    "# gradient descent\n",
    "for k in range(50):\n",
    "  \n",
    "  # forward pass\n",
    "\n",
    "  logits = one_hot @ W # predict log-counts\n",
    "  counts = logits.exp() # counts, equivalent to N\n",
    "  probs = counts / counts.sum(1, keepdims=True) # probabilities for next character\n",
    "  loss = -probs[torch.arange(one_hot.shape[0]), ys].log().mean() + 0.01*(W**2).mean()\n",
    "  print(loss.item())\n",
    "  \n",
    "  # backward pass\n",
    "  W.grad = None # set to zero the gradient\n",
    "  loss.backward()\n",
    "  \n",
    "  # update\n",
    "  W.data += -150 * W.grad"
   ]
  },
  {
   "cell_type": "code",
   "execution_count": 113,
   "metadata": {},
   "outputs": [
    {
     "name": "stdout",
     "output_type": "stream",
     "text": [
      "kiya.\n",
      "jarikly.\n",
      "kypnlqumk.\n",
      "bellyn.\n",
      "de.\n"
     ]
    }
   ],
   "source": [
    "\n",
    "for i in range(5):\n",
    "  \n",
    "  out = []\n",
    "  ix = (0, 0)\n",
    "  while True:\n",
    "    \n",
    "    index = torch.tensor([mapping[ix]])\n",
    "    xenc = F.one_hot(index, num_classes=num_classes).float()\n",
    "    logits = xenc @ W # predict log-counts\n",
    "    counts = logits.exp() # counts, equivalent to N\n",
    "    p = counts / counts.sum(1, keepdims=True) # probabilities for next character\n",
    "    # ----------\n",
    "    \n",
    "    ix_n = torch.multinomial(p, num_samples=1, replacement=True, generator=g).item()\n",
    "    out.append(itos[ix_n])\n",
    "    if ix_n == 0:\n",
    "      break\n",
    "    ix = (ix[1], ix_n)\n",
    "  print(''.join(out))"
   ]
  }
 ],
 "metadata": {
  "kernelspec": {
   "display_name": "nlp",
   "language": "python",
   "name": "python3"
  },
  "language_info": {
   "codemirror_mode": {
    "name": "ipython",
    "version": 3
   },
   "file_extension": ".py",
   "mimetype": "text/x-python",
   "name": "python",
   "nbconvert_exporter": "python",
   "pygments_lexer": "ipython3",
   "version": "3.12.9"
  }
 },
 "nbformat": 4,
 "nbformat_minor": 2
}
